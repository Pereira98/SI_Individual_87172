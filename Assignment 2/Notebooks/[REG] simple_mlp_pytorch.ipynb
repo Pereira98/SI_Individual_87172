{
 "cells": [
  {
   "cell_type": "code",
   "execution_count": 1,
   "id": "c6428f9d",
   "metadata": {},
   "outputs": [],
   "source": [
    "import numpy as np\n",
    "from sklearn import datasets\n",
    "from sklearn.preprocessing import StandardScaler\n",
    "from sklearn.model_selection import train_test_split\n",
    "from sklearn.metrics import mean_squared_error,accuracy_score,classification_report\n",
    "import matplotlib.pyplot as plt\n",
    "import torch.nn.functional as F\n",
    "import torch\n",
    "import torch.nn as nn\n",
    "import torch.optim as optim\n",
    "from torch.utils.data import TensorDataset, DataLoader\n",
    "import pandas"
   ]
  },
  {
   "cell_type": "code",
   "execution_count": 2,
   "id": "0a386c10",
   "metadata": {},
   "outputs": [
    {
     "data": {
      "text/plain": [
       "(442, 10)"
      ]
     },
     "execution_count": 2,
     "metadata": {},
     "output_type": "execute_result"
    }
   ],
   "source": [
    "# CHOOSE DATASET\n",
    "\n",
    "# Regression dataset\n",
    "data = datasets.load_diabetes(as_frame=True)\n",
    "\n",
    "X = data.data.values\n",
    "y = data.target.values \n",
    "X.shape"
   ]
  },
  {
   "cell_type": "code",
   "execution_count": 3,
   "id": "aafa6216",
   "metadata": {},
   "outputs": [],
   "source": [
    "#train test spliting\n",
    "test_size=0.2\n",
    "Xtr, Xte, ytr, yte = train_test_split(X, y, test_size=test_size, random_state=42)"
   ]
  },
  {
   "cell_type": "code",
   "execution_count": 4,
   "id": "2dfc9566",
   "metadata": {},
   "outputs": [],
   "source": [
    "# Standardize features\n",
    "scaler=StandardScaler()\n",
    "Xtr= scaler.fit_transform(Xtr)\n",
    "Xte= scaler.transform(Xte)"
   ]
  },
  {
   "cell_type": "code",
   "execution_count": 5,
   "id": "99c0966d",
   "metadata": {},
   "outputs": [],
   "source": [
    "class MLP(nn.Module):\n",
    "    def __init__(self, input_size, output_size=1, dropout_prob=0.5):\n",
    "        super(MLP, self).__init__()\n",
    "        \n",
    "        self.fc1 = nn.Linear(input_size, 64)\n",
    "        self.fc2 = nn.Linear(64, 64)\n",
    "        self.fc3 = nn.Linear(64, 64)\n",
    "        self.fc4 = nn.Linear(64, 64)\n",
    "        self.out = nn.Linear(64, output_size)\n",
    "        \n",
    "        self.dropout = nn.Dropout(p=dropout_prob)\n",
    "        \n",
    "    def forward(self, x):\n",
    "        x = F.relu(self.fc1(x))\n",
    "        x = self.dropout(x)\n",
    "        \n",
    "        x = F.relu(self.fc2(x))\n",
    "        x = self.dropout(x)\n",
    "        \n",
    "        x = F.relu(self.fc3(x))\n",
    "        x = self.dropout(x)\n",
    "        \n",
    "        x = F.relu(self.fc4(x))\n",
    "        x = self.dropout(x)\n",
    "        \n",
    "        x = self.out(x)\n",
    "        return x"
   ]
  },
  {
   "cell_type": "code",
   "execution_count": 6,
   "id": "2ab972de",
   "metadata": {},
   "outputs": [],
   "source": [
    "num_epochs=100\n",
    "lr=0.0003\n",
    "dropout=0.2\n",
    "batch_size=64"
   ]
  },
  {
   "cell_type": "code",
   "execution_count": 7,
   "id": "49298ada",
   "metadata": {},
   "outputs": [],
   "source": [
    "Xtr = torch.tensor(Xtr, dtype=torch.float32)\n",
    "ytr = torch.tensor(ytr, dtype=torch.float32)\n",
    "Xte = torch.tensor(Xte, dtype=torch.float32)\n",
    "yte = torch.tensor(yte, dtype=torch.float32)\n",
    "\n",
    "# Wrap Xtr and ytr into a dataset\n",
    "train_dataset = TensorDataset(Xtr, ytr)\n",
    "\n",
    "# Create DataLoader\n",
    "train_dataloader = DataLoader(train_dataset, batch_size=batch_size, shuffle=True)"
   ]
  },
  {
   "cell_type": "code",
   "execution_count": 8,
   "id": "8e649c6f",
   "metadata": {},
   "outputs": [],
   "source": [
    "# Model, Loss, Optimizer\n",
    "device = torch.device(\"cuda\" if torch.cuda.is_available() else \"cpu\")\n",
    "\n",
    "model = MLP(input_size=Xtr.shape[1], dropout_prob=dropout).to(device)\n",
    "criterion = nn.MSELoss() #for regression\n",
    "optimizer = optim.Adam(model.parameters(), lr=lr)"
   ]
  },
  {
   "cell_type": "code",
   "execution_count": 9,
   "id": "e02dec66",
   "metadata": {},
   "outputs": [
    {
     "name": "stdout",
     "output_type": "stream",
     "text": [
      "Epoch [1/100], Loss: 29449.1361\n",
      "Epoch [2/100], Loss: 29537.6800\n",
      "Epoch [3/100], Loss: 29648.5999\n",
      "Epoch [4/100], Loss: 29870.2096\n",
      "Epoch [5/100], Loss: 29251.0381\n",
      "Epoch [6/100], Loss: 30329.8714\n",
      "Epoch [7/100], Loss: 29287.1097\n",
      "Epoch [8/100], Loss: 29474.9590\n",
      "Epoch [9/100], Loss: 29603.8398\n",
      "Epoch [10/100], Loss: 29241.7132\n",
      "Epoch [11/100], Loss: 28707.5954\n",
      "Epoch [12/100], Loss: 29675.3825\n",
      "Epoch [13/100], Loss: 28270.2565\n",
      "Epoch [14/100], Loss: 28059.0911\n",
      "Epoch [15/100], Loss: 27659.1338\n",
      "Epoch [16/100], Loss: 27542.0452\n",
      "Epoch [17/100], Loss: 25897.6979\n",
      "Epoch [18/100], Loss: 24763.1361\n",
      "Epoch [19/100], Loss: 23212.8646\n",
      "Epoch [20/100], Loss: 21354.4956\n",
      "Epoch [21/100], Loss: 18705.7349\n",
      "Epoch [22/100], Loss: 16359.4538\n",
      "Epoch [23/100], Loss: 13653.5404\n",
      "Epoch [24/100], Loss: 11158.1305\n",
      "Epoch [25/100], Loss: 8903.7935\n",
      "Epoch [26/100], Loss: 7219.4086\n",
      "Epoch [27/100], Loss: 6266.7198\n",
      "Epoch [28/100], Loss: 6350.3012\n",
      "Epoch [29/100], Loss: 5513.2728\n",
      "Epoch [30/100], Loss: 5502.0420\n",
      "Epoch [31/100], Loss: 4937.3316\n",
      "Epoch [32/100], Loss: 4929.5307\n",
      "Epoch [33/100], Loss: 4817.0387\n",
      "Epoch [34/100], Loss: 4569.2323\n",
      "Epoch [35/100], Loss: 4426.8753\n",
      "Epoch [36/100], Loss: 4594.3065\n",
      "Epoch [37/100], Loss: 4744.9051\n",
      "Epoch [38/100], Loss: 4487.7894\n",
      "Epoch [39/100], Loss: 4600.3084\n",
      "Epoch [40/100], Loss: 4230.6035\n",
      "Epoch [41/100], Loss: 4462.4264\n",
      "Epoch [42/100], Loss: 4098.9656\n",
      "Epoch [43/100], Loss: 4435.3885\n",
      "Epoch [44/100], Loss: 4103.7687\n",
      "Epoch [45/100], Loss: 4326.2604\n",
      "Epoch [46/100], Loss: 4448.7600\n",
      "Epoch [47/100], Loss: 3973.8029\n",
      "Epoch [48/100], Loss: 4435.6602\n",
      "Epoch [49/100], Loss: 4006.9399\n",
      "Epoch [50/100], Loss: 4283.7711\n",
      "Epoch [51/100], Loss: 3991.1982\n",
      "Epoch [52/100], Loss: 4461.7839\n",
      "Epoch [53/100], Loss: 4082.2118\n",
      "Epoch [54/100], Loss: 4243.2274\n",
      "Epoch [55/100], Loss: 3828.4326\n",
      "Epoch [56/100], Loss: 3965.2912\n",
      "Epoch [57/100], Loss: 3860.5592\n",
      "Epoch [58/100], Loss: 4053.3895\n",
      "Epoch [59/100], Loss: 3896.2640\n",
      "Epoch [60/100], Loss: 3801.4473\n",
      "Epoch [61/100], Loss: 3739.8108\n",
      "Epoch [62/100], Loss: 3934.7367\n",
      "Epoch [63/100], Loss: 4130.7638\n",
      "Epoch [64/100], Loss: 4140.6116\n",
      "Epoch [65/100], Loss: 3651.1995\n",
      "Epoch [66/100], Loss: 3727.2822\n",
      "Epoch [67/100], Loss: 3859.6477\n",
      "Epoch [68/100], Loss: 3740.0861\n",
      "Epoch [69/100], Loss: 4048.0732\n",
      "Epoch [70/100], Loss: 3772.3901\n",
      "Epoch [71/100], Loss: 3772.9247\n",
      "Epoch [72/100], Loss: 3917.5616\n",
      "Epoch [73/100], Loss: 3874.8046\n",
      "Epoch [74/100], Loss: 3999.9831\n",
      "Epoch [75/100], Loss: 3965.8012\n",
      "Epoch [76/100], Loss: 3879.4460\n",
      "Epoch [77/100], Loss: 3790.7185\n",
      "Epoch [78/100], Loss: 3789.6127\n",
      "Epoch [79/100], Loss: 3845.1590\n",
      "Epoch [80/100], Loss: 3903.1011\n",
      "Epoch [81/100], Loss: 4146.8467\n",
      "Epoch [82/100], Loss: 3835.4568\n",
      "Epoch [83/100], Loss: 3766.6992\n",
      "Epoch [84/100], Loss: 3956.0291\n",
      "Epoch [85/100], Loss: 3462.3297\n",
      "Epoch [86/100], Loss: 3716.3974\n",
      "Epoch [87/100], Loss: 3486.6404\n",
      "Epoch [88/100], Loss: 3664.3326\n",
      "Epoch [89/100], Loss: 3731.0924\n",
      "Epoch [90/100], Loss: 3728.1316\n",
      "Epoch [91/100], Loss: 3654.0418\n",
      "Epoch [92/100], Loss: 3784.2129\n",
      "Epoch [93/100], Loss: 3927.4917\n",
      "Epoch [94/100], Loss: 3385.9915\n",
      "Epoch [95/100], Loss: 3972.7642\n",
      "Epoch [96/100], Loss: 3852.2151\n",
      "Epoch [97/100], Loss: 3857.1410\n",
      "Epoch [98/100], Loss: 3890.4041\n",
      "Epoch [99/100], Loss: 3488.9153\n",
      "Epoch [100/100], Loss: 3616.1873\n"
     ]
    }
   ],
   "source": [
    "# Training loop\n",
    "for epoch in range(num_epochs):\n",
    "    model.train()\n",
    "    epoch_loss = 0.0\n",
    "\n",
    "    for batch_x, batch_y in train_dataloader:\n",
    "        batch_x = batch_x.to(device)\n",
    "        batch_y = batch_y.to(device)\n",
    "\n",
    "        logits = model(batch_x)\n",
    "        loss = criterion(logits, batch_y.view(-1, 1))\n",
    "\n",
    "        optimizer.zero_grad()\n",
    "        loss.backward()\n",
    "        optimizer.step()\n",
    "\n",
    "        epoch_loss += loss.item()\n",
    "\n",
    "    avg_loss = epoch_loss / len(train_dataloader)\n",
    "    print(f\"Epoch [{epoch+1}/{num_epochs}], Loss: {avg_loss:.4f}\")"
   ]
  },
  {
   "cell_type": "code",
   "execution_count": 10,
   "id": "dc271f10",
   "metadata": {},
   "outputs": [
    {
     "name": "stdout",
     "output_type": "stream",
     "text": [
      "MSE:3743.030517578125\n"
     ]
    }
   ],
   "source": [
    "y_pred=model(Xte)\n",
    "print(f'MSE:{mean_squared_error(yte.detach().numpy(),y_pred.detach().numpy())}') #regression"
   ]
  },
  {
   "cell_type": "code",
   "execution_count": 11,
   "id": "791e3b9f-73ec-4467-94e3-d9c4fdc7c8a5",
   "metadata": {},
   "outputs": [
    {
     "data": {
      "image/png": "[encoded data removed]",
      "text/plain": [
       "<Figure size 640x480 with 1 Axes>"
      ]
     },
     "metadata": {},
     "output_type": "display_data"
    },
    {
     "data": {
      "text/plain": [
       "<Figure size 640x480 with 0 Axes>"
      ]
     },
     "metadata": {},
     "output_type": "display_data"
    }
   ],
   "source": [
    "plt.scatter(yte, y_pred.detach().numpy(), alpha=0.6)\n",
    "plt.plot([yte.min(), yte.max()], [yte.min(), yte.max()], 'r--')\n",
    "plt.xlabel(\"Actual\")\n",
    "plt.ylabel(\"Predicted\")\n",
    "plt.title(\"Predicted vs Actual\")\n",
    "plt.show()\n",
    "plt.savefig(\"../Plots/PredictedActualMLP.pdf\", format=\"pdf\", bbox_inches=\"tight\")"
   ]
  },
  {
   "cell_type": "code",
   "execution_count": null,
   "id": "51798ae4-9809-47cd-a621-f2e0d92fc32c",
   "metadata": {},
   "outputs": [],
   "source": []
  }
 ],
 "metadata": {
  "kernelspec": {
   "display_name": "Python 3 (ipykernel)",
   "language": "python",
   "name": "python3"
  },
  "language_info": {
   "codemirror_mode": {
    "name": "ipython",
    "version": 3
   },
   "file_extension": ".py",
   "mimetype": "text/x-python",
   "name": "python",
   "nbconvert_exporter": "python",
   "pygments_lexer": "ipython3",
   "version": "3.13.7"
  }
 },
 "nbformat": 4,
 "nbformat_minor": 5
}
