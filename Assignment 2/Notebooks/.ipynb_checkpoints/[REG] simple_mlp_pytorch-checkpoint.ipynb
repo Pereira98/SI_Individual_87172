{
 "cells": [
  {
   "cell_type": "code",
   "execution_count": 1,
   "id": "c6428f9d",
   "metadata": {},
   "outputs": [],
   "source": [
    "import numpy as np\n",
    "from sklearn import datasets\n",
    "from sklearn.preprocessing import StandardScaler\n",
    "from sklearn.model_selection import train_test_split\n",
    "from sklearn.metrics import mean_squared_error,accuracy_score,classification_report\n",
    "import matplotlib.pyplot as plt\n",
    "import torch.nn.functional as F\n",
    "import torch\n",
    "import torch.nn as nn\n",
    "import torch.optim as optim\n",
    "from torch.utils.data import TensorDataset, DataLoader\n",
    "import pandas"
   ]
  },
  {
   "cell_type": "code",
   "execution_count": 2,
   "id": "0a386c10",
   "metadata": {},
   "outputs": [
    {
     "data": {
      "text/plain": [
       "(442, 10)"
      ]
     },
     "execution_count": 2,
     "metadata": {},
     "output_type": "execute_result"
    }
   ],
   "source": [
    "# CHOOSE DATASET\n",
    "\n",
    "# Regression dataset\n",
    "data = datasets.load_diabetes(as_frame=True)\n",
    "\n",
    "X = data.data.values\n",
    "y = data.target.values \n",
    "X.shape"
   ]
  },
  {
   "cell_type": "code",
   "execution_count": 3,
   "id": "aafa6216",
   "metadata": {},
   "outputs": [],
   "source": [
    "#train test spliting\n",
    "test_size=0.2\n",
    "Xtr, Xte, ytr, yte = train_test_split(X, y, test_size=test_size, random_state=42)"
   ]
  },
  {
   "cell_type": "code",
   "execution_count": 4,
   "id": "2dfc9566",
   "metadata": {},
   "outputs": [],
   "source": [
    "# Standardize features\n",
    "scaler=StandardScaler()\n",
    "Xtr= scaler.fit_transform(Xtr)\n",
    "Xte= scaler.transform(Xte)"
   ]
  },
  {
   "cell_type": "code",
   "execution_count": 5,
   "id": "99c0966d",
   "metadata": {},
   "outputs": [],
   "source": [
    "class MLP(nn.Module):\n",
    "    def __init__(self, input_size, output_size=1, dropout_prob=0.5):\n",
    "        super(MLP, self).__init__()\n",
    "        \n",
    "        self.fc1 = nn.Linear(input_size, 64)\n",
    "        self.fc2 = nn.Linear(64, 64)\n",
    "        self.fc3 = nn.Linear(64, 64)\n",
    "        self.fc4 = nn.Linear(64, 64)\n",
    "        self.out = nn.Linear(64, output_size)\n",
    "        \n",
    "        self.dropout = nn.Dropout(p=dropout_prob)\n",
    "        \n",
    "    def forward(self, x):\n",
    "        x = F.relu(self.fc1(x))\n",
    "        x = self.dropout(x)\n",
    "        \n",
    "        x = F.relu(self.fc2(x))\n",
    "        x = self.dropout(x)\n",
    "        \n",
    "        x = F.relu(self.fc3(x))\n",
    "        x = self.dropout(x)\n",
    "        \n",
    "        x = F.relu(self.fc4(x))\n",
    "        x = self.dropout(x)\n",
    "        \n",
    "        x = self.out(x)\n",
    "        return x"
   ]
  },
  {
   "cell_type": "code",
   "execution_count": 6,
   "id": "2ab972de",
   "metadata": {},
   "outputs": [],
   "source": [
    "num_epochs=100\n",
    "lr=0.0003\n",
    "dropout=0.2\n",
    "batch_size=64"
   ]
  },
  {
   "cell_type": "code",
   "execution_count": 7,
   "id": "49298ada",
   "metadata": {},
   "outputs": [],
   "source": [
    "Xtr = torch.tensor(Xtr, dtype=torch.float32)\n",
    "ytr = torch.tensor(ytr, dtype=torch.float32)\n",
    "Xte = torch.tensor(Xte, dtype=torch.float32)\n",
    "yte = torch.tensor(yte, dtype=torch.float32)\n",
    "\n",
    "# Wrap Xtr and ytr into a dataset\n",
    "train_dataset = TensorDataset(Xtr, ytr)\n",
    "\n",
    "# Create DataLoader\n",
    "train_dataloader = DataLoader(train_dataset, batch_size=batch_size, shuffle=True)"
   ]
  },
  {
   "cell_type": "code",
   "execution_count": 8,
   "id": "8e649c6f",
   "metadata": {},
   "outputs": [],
   "source": [
    "# Model, Loss, Optimizer\n",
    "device = torch.device(\"cuda\" if torch.cuda.is_available() else \"cpu\")\n",
    "\n",
    "model = MLP(input_size=Xtr.shape[1], dropout_prob=dropout).to(device)\n",
    "criterion = nn.MSELoss() #for regression\n",
    "optimizer = optim.Adam(model.parameters(), lr=lr)"
   ]
  },
  {
   "cell_type": "code",
   "execution_count": 9,
   "id": "e02dec66",
   "metadata": {},
   "outputs": [
    {
     "name": "stdout",
     "output_type": "stream",
     "text": [
      "Epoch [1/100], Loss: 29963.8867\n",
      "Epoch [2/100], Loss: 29899.7767\n",
      "Epoch [3/100], Loss: 29866.7109\n",
      "Epoch [4/100], Loss: 29854.5889\n",
      "Epoch [5/100], Loss: 28869.4707\n",
      "Epoch [6/100], Loss: 29600.7695\n",
      "Epoch [7/100], Loss: 29236.1309\n",
      "Epoch [8/100], Loss: 29280.0104\n",
      "Epoch [9/100], Loss: 29287.0186\n",
      "Epoch [10/100], Loss: 29358.9215\n",
      "Epoch [11/100], Loss: 29781.8675\n",
      "Epoch [12/100], Loss: 28431.5807\n",
      "Epoch [13/100], Loss: 28741.9020\n",
      "Epoch [14/100], Loss: 28719.7448\n",
      "Epoch [15/100], Loss: 27394.0889\n",
      "Epoch [16/100], Loss: 26717.4395\n",
      "Epoch [17/100], Loss: 25787.5550\n",
      "Epoch [18/100], Loss: 23656.4255\n",
      "Epoch [19/100], Loss: 22760.5400\n",
      "Epoch [20/100], Loss: 20806.1188\n",
      "Epoch [21/100], Loss: 18125.7946\n",
      "Epoch [22/100], Loss: 15652.5057\n",
      "Epoch [23/100], Loss: 12824.7303\n",
      "Epoch [24/100], Loss: 10519.0179\n",
      "Epoch [25/100], Loss: 8550.2349\n",
      "Epoch [26/100], Loss: 7798.2155\n",
      "Epoch [27/100], Loss: 6271.0618\n",
      "Epoch [28/100], Loss: 5640.2359\n",
      "Epoch [29/100], Loss: 5980.7294\n",
      "Epoch [30/100], Loss: 5330.4427\n",
      "Epoch [31/100], Loss: 5788.4426\n",
      "Epoch [32/100], Loss: 5583.0360\n",
      "Epoch [33/100], Loss: 5159.8354\n",
      "Epoch [34/100], Loss: 5094.7147\n",
      "Epoch [35/100], Loss: 4921.0780\n",
      "Epoch [36/100], Loss: 5162.0347\n",
      "Epoch [37/100], Loss: 4948.4863\n",
      "Epoch [38/100], Loss: 4348.9304\n",
      "Epoch [39/100], Loss: 4583.8053\n",
      "Epoch [40/100], Loss: 4667.6394\n",
      "Epoch [41/100], Loss: 4131.9939\n",
      "Epoch [42/100], Loss: 4062.7534\n",
      "Epoch [43/100], Loss: 4765.8565\n",
      "Epoch [44/100], Loss: 4044.8011\n",
      "Epoch [45/100], Loss: 4279.3233\n",
      "Epoch [46/100], Loss: 4078.8448\n",
      "Epoch [47/100], Loss: 4385.0946\n",
      "Epoch [48/100], Loss: 4196.5803\n",
      "Epoch [49/100], Loss: 4120.9447\n",
      "Epoch [50/100], Loss: 4283.8970\n",
      "Epoch [51/100], Loss: 4110.0351\n",
      "Epoch [52/100], Loss: 4619.4892\n",
      "Epoch [53/100], Loss: 3971.0571\n",
      "Epoch [54/100], Loss: 4147.9974\n",
      "Epoch [55/100], Loss: 4453.0304\n",
      "Epoch [56/100], Loss: 4425.9319\n",
      "Epoch [57/100], Loss: 4184.6817\n",
      "Epoch [58/100], Loss: 3871.1070\n",
      "Epoch [59/100], Loss: 3760.2430\n",
      "Epoch [60/100], Loss: 4075.9898\n",
      "Epoch [61/100], Loss: 3560.8109\n",
      "Epoch [62/100], Loss: 4148.9313\n",
      "Epoch [63/100], Loss: 3939.6185\n",
      "Epoch [64/100], Loss: 3934.4459\n",
      "Epoch [65/100], Loss: 3814.6288\n",
      "Epoch [66/100], Loss: 3879.1348\n",
      "Epoch [67/100], Loss: 4088.5636\n",
      "Epoch [68/100], Loss: 3920.8263\n",
      "Epoch [69/100], Loss: 4078.7714\n",
      "Epoch [70/100], Loss: 3840.1358\n",
      "Epoch [71/100], Loss: 3947.9802\n",
      "Epoch [72/100], Loss: 4014.3708\n",
      "Epoch [73/100], Loss: 4327.6577\n",
      "Epoch [74/100], Loss: 4017.3526\n",
      "Epoch [75/100], Loss: 3856.8468\n",
      "Epoch [76/100], Loss: 4354.9016\n",
      "Epoch [77/100], Loss: 3879.2114\n",
      "Epoch [78/100], Loss: 3884.2566\n",
      "Epoch [79/100], Loss: 3813.7034\n",
      "Epoch [80/100], Loss: 3949.5700\n",
      "Epoch [81/100], Loss: 4042.1320\n",
      "Epoch [82/100], Loss: 3726.5214\n",
      "Epoch [83/100], Loss: 3672.1545\n",
      "Epoch [84/100], Loss: 3564.3408\n",
      "Epoch [85/100], Loss: 3697.4874\n",
      "Epoch [86/100], Loss: 3968.1486\n",
      "Epoch [87/100], Loss: 3982.2527\n",
      "Epoch [88/100], Loss: 3832.3629\n",
      "Epoch [89/100], Loss: 3587.4059\n",
      "Epoch [90/100], Loss: 3599.8098\n",
      "Epoch [91/100], Loss: 3808.5240\n",
      "Epoch [92/100], Loss: 3651.7393\n",
      "Epoch [93/100], Loss: 3530.6734\n",
      "Epoch [94/100], Loss: 3784.5076\n",
      "Epoch [95/100], Loss: 3566.1061\n",
      "Epoch [96/100], Loss: 3871.3206\n",
      "Epoch [97/100], Loss: 3977.1104\n",
      "Epoch [98/100], Loss: 3779.8511\n",
      "Epoch [99/100], Loss: 3656.1186\n",
      "Epoch [100/100], Loss: 3481.5117\n"
     ]
    }
   ],
   "source": [
    "# Training loop\n",
    "for epoch in range(num_epochs):\n",
    "    model.train()\n",
    "    epoch_loss = 0.0\n",
    "\n",
    "    for batch_x, batch_y in train_dataloader:\n",
    "        batch_x = batch_x.to(device)\n",
    "        batch_y = batch_y.to(device)\n",
    "\n",
    "        logits = model(batch_x)\n",
    "        loss = criterion(logits, batch_y.view(-1, 1))\n",
    "\n",
    "        optimizer.zero_grad()\n",
    "        loss.backward()\n",
    "        optimizer.step()\n",
    "\n",
    "        epoch_loss += loss.item()\n",
    "\n",
    "    avg_loss = epoch_loss / len(train_dataloader)\n",
    "    print(f\"Epoch [{epoch+1}/{num_epochs}], Loss: {avg_loss:.4f}\")"
   ]
  },
  {
   "cell_type": "code",
   "execution_count": 10,
   "id": "dc271f10",
   "metadata": {},
   "outputs": [
    {
     "name": "stdout",
     "output_type": "stream",
     "text": [
      "MSE:4207.64013671875\n"
     ]
    }
   ],
   "source": [
    "y_pred=model(Xte)\n",
    "print(f'MSE:{mean_squared_error(yte.detach().numpy(),y_pred.detach().numpy())}') #regression"
   ]
  },
  {
   "cell_type": "code",
   "execution_count": 11,
   "id": "791e3b9f-73ec-4467-94e3-d9c4fdc7c8a5",
   "metadata": {},
   "outputs": [
    {
     "data": {
      "image/png": "[encoded data removed]",
      "text/plain": [
       "<Figure size 640x480 with 1 Axes>"
      ]
     },
     "metadata": {},
     "output_type": "display_data"
    },
    {
     "data": {
      "text/plain": [
       "<Figure size 640x480 with 0 Axes>"
      ]
     },
     "metadata": {},
     "output_type": "display_data"
    }
   ],
   "source": [
    "plt.scatter(yte, y_pred.detach().numpy(), alpha=0.6)\n",
    "plt.plot([yte.min(), yte.max()], [yte.min(), yte.max()], 'r--')\n",
    "plt.xlabel(\"Actual\")\n",
    "plt.ylabel(\"Predicted\")\n",
    "plt.title(\"Predicted vs Actual\")\n",
    "plt.show()\n",
    "plt.savefig(\"../Plots/PredictedActualMLP.pdf\", format=\"pdf\", bbox_inches=\"tight\")"
   ]
  },
  {
   "cell_type": "code",
   "execution_count": null,
   "id": "51798ae4-9809-47cd-a621-f2e0d92fc32c",
   "metadata": {},
   "outputs": [],
   "source": []
  }
 ],
 "metadata": {
  "kernelspec": {
   "display_name": "Python 3 (ipykernel)",
   "language": "python",
   "name": "python3"
  },
  "language_info": {
   "codemirror_mode": {
    "name": "ipython",
    "version": 3
   },
   "file_extension": ".py",
   "mimetype": "text/x-python",
   "name": "python",
   "nbconvert_exporter": "python",
   "pygments_lexer": "ipython3",
   "version": "3.13.7"
  }
 },
 "nbformat": 4,
 "nbformat_minor": 5
}
