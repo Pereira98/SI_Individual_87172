{
 "cells": [
  {
   "cell_type": "code",
   "execution_count": 1,
   "id": "c6428f9d",
   "metadata": {},
   "outputs": [],
   "source": [
    "import numpy as np\n",
    "from sklearn import datasets\n",
    "from sklearn.preprocessing import StandardScaler\n",
    "from sklearn.model_selection import train_test_split\n",
    "from sklearn.metrics import mean_squared_error,accuracy_score,classification_report,confusion_matrix,ConfusionMatrixDisplay,roc_curve,auc\n",
    "import matplotlib.pyplot as plt\n",
    "import torch.nn.functional as F\n",
    "import torch\n",
    "import torch.nn as nn\n",
    "import torch.optim as optim\n",
    "from torch.utils.data import TensorDataset, DataLoader\n",
    "import pandas"
   ]
  },
  {
   "cell_type": "code",
   "execution_count": 2,
   "id": "0a386c10",
   "metadata": {},
   "outputs": [
    {
     "name": "stdout",
     "output_type": "stream",
     "text": [
      "Zeros per feature:\n",
      " [  5  35 227 374  11   0]\n",
      "Rows with ≥1 zero: 376 / 768\n"
     ]
    }
   ],
   "source": [
    "# CHOOSE DATASET\n",
    "\n",
    "# Binary classification dataset\n",
    "data = datasets.fetch_openml(name=\"diabetes\",version=1, as_frame=True) \n",
    "\n",
    "X = data.data.values\n",
    "y = data.target.values \n",
    "X.shape\n",
    "\n",
    "# Keep as DataFrame for named-column ops\n",
    "df = data.data.copy()\n",
    "y = np.where(data.target.values == \"tested_positive\", 1, 0).astype(np.float32)\n",
    "\n",
    "# indices of features with invalid zeros\n",
    "invalid_idx = [1, 2, 3, 4, 5, 7]\n",
    "\n",
    "# count zeros per feature\n",
    "zero_counts = (X[:, invalid_idx] == 0).sum(axis=0)\n",
    "rows_with_zero = (X[:, invalid_idx] == 0).any(axis=1).sum()\n",
    "\n",
    "print(\"Zeros per feature:\\n\", zero_counts)\n",
    "print(f\"Rows with ≥1 zero: {rows_with_zero} / {len(df)}\")\n",
    "\n",
    "(len(X), zero_counts, rows_with_zero)\n",
    "\n",
    "# Drop columns 3 and 4 (0-based indexing)\n",
    "X = np.delete(X, [3, 4], axis=1)\n",
    "\n",
    "# Keep only rows where Glucose, BloodPressure, BMI are non-zero\n",
    "mask = (X[:, [1, 2, 3, 4]] != 0).all(axis=1)\n",
    "X = X[mask]\n",
    "y = y[mask]"
   ]
  },
  {
   "cell_type": "code",
   "execution_count": 3,
   "id": "aafa6216",
   "metadata": {},
   "outputs": [],
   "source": [
    "#train test spliting\n",
    "test_size=0.2\n",
    "Xtr, Xte, ytr, yte = train_test_split(X, y, test_size=test_size, random_state=42)"
   ]
  },
  {
   "cell_type": "code",
   "execution_count": 4,
   "id": "2dfc9566",
   "metadata": {},
   "outputs": [],
   "source": [
    "# Standardize features\n",
    "scaler=StandardScaler()\n",
    "Xtr= scaler.fit_transform(Xtr)\n",
    "Xte= scaler.transform(Xte)"
   ]
  },
  {
   "cell_type": "code",
   "execution_count": 5,
   "id": "99c0966d",
   "metadata": {},
   "outputs": [],
   "source": [
    "class MLP(nn.Module):\n",
    "    def __init__(self, input_size, output_size=1, dropout_prob=0.5):\n",
    "        super(MLP, self).__init__()\n",
    "        \n",
    "        self.fc1 = nn.Linear(input_size, 64)\n",
    "        self.fc2 = nn.Linear(64, 64)\n",
    "        self.fc3 = nn.Linear(64, 64)\n",
    "        self.fc4 = nn.Linear(64, 64)\n",
    "        self.out = nn.Linear(64, output_size)\n",
    "        \n",
    "        self.dropout = nn.Dropout(p=dropout_prob)\n",
    "        \n",
    "    def forward(self, x):\n",
    "        x = F.relu(self.fc1(x))\n",
    "        x = self.dropout(x)\n",
    "        \n",
    "        x = F.relu(self.fc2(x))\n",
    "        x = self.dropout(x)\n",
    "        \n",
    "        x = F.relu(self.fc3(x))\n",
    "        x = self.dropout(x)\n",
    "        \n",
    "        x = F.relu(self.fc4(x))\n",
    "        x = self.dropout(x)\n",
    "        \n",
    "        x = self.out(x)\n",
    "        return x"
   ]
  },
  {
   "cell_type": "code",
   "execution_count": 6,
   "id": "2ab972de",
   "metadata": {},
   "outputs": [],
   "source": [
    "num_epochs=100\n",
    "lr=0.0003\n",
    "dropout=0.2\n",
    "batch_size=64"
   ]
  },
  {
   "cell_type": "code",
   "execution_count": 7,
   "id": "49298ada",
   "metadata": {},
   "outputs": [],
   "source": [
    "Xtr = torch.tensor(Xtr, dtype=torch.float32)\n",
    "ytr = torch.tensor(ytr, dtype=torch.float32)\n",
    "Xte = torch.tensor(Xte, dtype=torch.float32)\n",
    "yte = torch.tensor(yte, dtype=torch.float32)\n",
    "\n",
    "# Wrap Xtr and ytr into a dataset\n",
    "train_dataset = TensorDataset(Xtr, ytr)\n",
    "\n",
    "# Create DataLoader\n",
    "train_dataloader = DataLoader(train_dataset, batch_size=batch_size, shuffle=True)"
   ]
  },
  {
   "cell_type": "code",
   "execution_count": 8,
   "id": "8e649c6f",
   "metadata": {},
   "outputs": [],
   "source": [
    "# Model, Loss, Optimizer\n",
    "device = torch.device(\"cuda\" if torch.cuda.is_available() else \"cpu\")\n",
    "\n",
    "model = MLP(input_size=Xtr.shape[1], dropout_prob=dropout).to(device)\n",
    "criterion = nn.BCEWithLogitsLoss()  # for binary classification\n",
    "optimizer = optim.Adam(model.parameters(), lr=lr)"
   ]
  },
  {
   "cell_type": "code",
   "execution_count": 9,
   "id": "e02dec66",
   "metadata": {},
   "outputs": [
    {
     "name": "stdout",
     "output_type": "stream",
     "text": [
      "Epoch [1/100], Loss: 0.6730\n",
      "Epoch [2/100], Loss: 0.6669\n",
      "Epoch [3/100], Loss: 0.6624\n",
      "Epoch [4/100], Loss: 0.6630\n",
      "Epoch [5/100], Loss: 0.6381\n",
      "Epoch [6/100], Loss: 0.6343\n",
      "Epoch [7/100], Loss: 0.6055\n",
      "Epoch [8/100], Loss: 0.6017\n",
      "Epoch [9/100], Loss: 0.5675\n",
      "Epoch [10/100], Loss: 0.5774\n",
      "Epoch [11/100], Loss: 0.5246\n",
      "Epoch [12/100], Loss: 0.5239\n",
      "Epoch [13/100], Loss: 0.5293\n",
      "Epoch [14/100], Loss: 0.4761\n",
      "Epoch [15/100], Loss: 0.4889\n",
      "Epoch [16/100], Loss: 0.5030\n",
      "Epoch [17/100], Loss: 0.4604\n",
      "Epoch [18/100], Loss: 0.4668\n",
      "Epoch [19/100], Loss: 0.4959\n",
      "Epoch [20/100], Loss: 0.4499\n",
      "Epoch [21/100], Loss: 0.4668\n",
      "Epoch [22/100], Loss: 0.4624\n",
      "Epoch [23/100], Loss: 0.4320\n",
      "Epoch [24/100], Loss: 0.4519\n",
      "Epoch [25/100], Loss: 0.4800\n",
      "Epoch [26/100], Loss: 0.4419\n",
      "Epoch [27/100], Loss: 0.5479\n",
      "Epoch [28/100], Loss: 0.5238\n",
      "Epoch [29/100], Loss: 0.4859\n",
      "Epoch [30/100], Loss: 0.4435\n",
      "Epoch [31/100], Loss: 0.4712\n",
      "Epoch [32/100], Loss: 0.4592\n",
      "Epoch [33/100], Loss: 0.4637\n",
      "Epoch [34/100], Loss: 0.5141\n",
      "Epoch [35/100], Loss: 0.4478\n",
      "Epoch [36/100], Loss: 0.5066\n",
      "Epoch [37/100], Loss: 0.4727\n",
      "Epoch [38/100], Loss: 0.4530\n",
      "Epoch [39/100], Loss: 0.4711\n",
      "Epoch [40/100], Loss: 0.4277\n",
      "Epoch [41/100], Loss: 0.4638\n",
      "Epoch [42/100], Loss: 0.4734\n",
      "Epoch [43/100], Loss: 0.4410\n",
      "Epoch [44/100], Loss: 0.4750\n",
      "Epoch [45/100], Loss: 0.4241\n",
      "Epoch [46/100], Loss: 0.4414\n",
      "Epoch [47/100], Loss: 0.5735\n",
      "Epoch [48/100], Loss: 0.4204\n",
      "Epoch [49/100], Loss: 0.4649\n",
      "Epoch [50/100], Loss: 0.4405\n",
      "Epoch [51/100], Loss: 0.4783\n",
      "Epoch [52/100], Loss: 0.4769\n",
      "Epoch [53/100], Loss: 0.4284\n",
      "Epoch [54/100], Loss: 0.4111\n",
      "Epoch [55/100], Loss: 0.4272\n",
      "Epoch [56/100], Loss: 0.4863\n",
      "Epoch [57/100], Loss: 0.4392\n",
      "Epoch [58/100], Loss: 0.4137\n",
      "Epoch [59/100], Loss: 0.4195\n",
      "Epoch [60/100], Loss: 0.4857\n",
      "Epoch [61/100], Loss: 0.4733\n",
      "Epoch [62/100], Loss: 0.4258\n",
      "Epoch [63/100], Loss: 0.4185\n",
      "Epoch [64/100], Loss: 0.4048\n",
      "Epoch [65/100], Loss: 0.4563\n",
      "Epoch [66/100], Loss: 0.4183\n",
      "Epoch [67/100], Loss: 0.4831\n",
      "Epoch [68/100], Loss: 0.5334\n",
      "Epoch [69/100], Loss: 0.4311\n",
      "Epoch [70/100], Loss: 0.4908\n",
      "Epoch [71/100], Loss: 0.4396\n",
      "Epoch [72/100], Loss: 0.4244\n",
      "Epoch [73/100], Loss: 0.4514\n",
      "Epoch [74/100], Loss: 0.4238\n",
      "Epoch [75/100], Loss: 0.4764\n",
      "Epoch [76/100], Loss: 0.4454\n",
      "Epoch [77/100], Loss: 0.4340\n",
      "Epoch [78/100], Loss: 0.4671\n",
      "Epoch [79/100], Loss: 0.4570\n",
      "Epoch [80/100], Loss: 0.4382\n",
      "Epoch [81/100], Loss: 0.4522\n",
      "Epoch [82/100], Loss: 0.4574\n",
      "Epoch [83/100], Loss: 0.4529\n",
      "Epoch [84/100], Loss: 0.4441\n",
      "Epoch [85/100], Loss: 0.4592\n",
      "Epoch [86/100], Loss: 0.4888\n",
      "Epoch [87/100], Loss: 0.4332\n",
      "Epoch [88/100], Loss: 0.4039\n",
      "Epoch [89/100], Loss: 0.4684\n",
      "Epoch [90/100], Loss: 0.4263\n",
      "Epoch [91/100], Loss: 0.4360\n",
      "Epoch [92/100], Loss: 0.4245\n",
      "Epoch [93/100], Loss: 0.4292\n",
      "Epoch [94/100], Loss: 0.4371\n",
      "Epoch [95/100], Loss: 0.4524\n",
      "Epoch [96/100], Loss: 0.4075\n",
      "Epoch [97/100], Loss: 0.4413\n",
      "Epoch [98/100], Loss: 0.4369\n",
      "Epoch [99/100], Loss: 0.4529\n",
      "Epoch [100/100], Loss: 0.4235\n"
     ]
    }
   ],
   "source": [
    "# Training loop\n",
    "for epoch in range(num_epochs):\n",
    "    model.train()\n",
    "    epoch_loss = 0.0\n",
    "\n",
    "    for batch_x, batch_y in train_dataloader:\n",
    "        batch_x = batch_x.to(device)\n",
    "        batch_y = batch_y.to(device)\n",
    "\n",
    "        logits = model(batch_x)\n",
    "        loss = criterion(logits, batch_y.view(-1, 1))\n",
    "\n",
    "        optimizer.zero_grad()\n",
    "        loss.backward()\n",
    "        optimizer.step()\n",
    "\n",
    "        epoch_loss += loss.item()\n",
    "\n",
    "    avg_loss = epoch_loss / len(train_dataloader)\n",
    "    print(f\"Epoch [{epoch+1}/{num_epochs}], Loss: {avg_loss:.4f}\")"
   ]
  },
  {
   "cell_type": "code",
   "execution_count": 10,
   "id": "dc271f10",
   "metadata": {},
   "outputs": [
    {
     "name": "stdout",
     "output_type": "stream",
     "text": [
      "ACC:0.7931034482758621\n"
     ]
    }
   ],
   "source": [
    "y_pred=model(Xte)\n",
    "print(f'ACC:{accuracy_score(yte.detach().numpy(),y_pred.detach().numpy()>0.5)}') #classification"
   ]
  },
  {
   "cell_type": "code",
   "execution_count": 11,
   "id": "76cc49c6-b2ed-4dc5-b2bd-9e0a8db20d57",
   "metadata": {},
   "outputs": [
    {
     "name": "stdout",
     "output_type": "stream",
     "text": [
      "proba min/mean/max: 0.0020300266 0.36886007 0.93190086\n"
     ]
    },
    {
     "data": {
      "image/png": "[encoded data removed]",
      "text/plain": [
       "<Figure size 640x480 with 2 Axes>"
      ]
     },
     "metadata": {},
     "output_type": "display_data"
    },
    {
     "data": {
      "text/plain": [
       "<Figure size 640x480 with 0 Axes>"
      ]
     },
     "metadata": {},
     "output_type": "display_data"
    }
   ],
   "source": [
    "model.eval()\n",
    "device = next(model.parameters()).device\n",
    "\n",
    "Xte_t = torch.as_tensor(Xte, dtype=torch.float32, device=device)\n",
    "with torch.no_grad():\n",
    "    logits = model(Xte_t)\n",
    "    # make it 1D\n",
    "    if logits.ndim > 1: logits = logits.squeeze(-1)\n",
    "    y_proba = torch.sigmoid(logits).cpu().numpy()\n",
    "\n",
    "print('proba min/mean/max:', y_proba.min(), y_proba.mean(), y_proba.max())\n",
    "y_pred = (y_proba > 0.5).astype(int)\n",
    "\n",
    "# ---- confusion matrix ----\n",
    "cm = confusion_matrix(yte, y_pred)\n",
    "ConfusionMatrixDisplay(cm).plot(cmap=\"Blues\")\n",
    "plt.title(\"Confusion Matrix\")\n",
    "plt.show()\n",
    "plt.savefig(\"../Plots/ConfusionMatrixMLP.pdf\", format=\"pdf\", bbox_inches=\"tight\")"
   ]
  },
  {
   "cell_type": "code",
   "execution_count": 12,
   "id": "64aa7144-ba20-48c2-92b6-1159bb502aa9",
   "metadata": {},
   "outputs": [
    {
     "data": {
      "image/png": "[encoded data removed]",
      "text/plain": [
       "<Figure size 640x480 with 1 Axes>"
      ]
     },
     "metadata": {},
     "output_type": "display_data"
    },
    {
     "data": {
      "text/plain": [
       "<Figure size 640x480 with 0 Axes>"
      ]
     },
     "metadata": {},
     "output_type": "display_data"
    }
   ],
   "source": [
    "fpr, tpr, _ = roc_curve(yte, y_proba)\n",
    "roc_auc = auc(fpr, tpr)\n",
    "plt.plot(fpr, tpr, label=f\"AUC={roc_auc:.2f}\")\n",
    "plt.plot([0,1],[0,1],'k--')\n",
    "plt.xlabel(\"FPR\"); plt.ylabel(\"TPR\"); plt.title(\"ROC Curve\"); plt.legend(); plt.show()\n",
    "plt.savefig(\"../Plots/RoCMLP.pdf\", format=\"pdf\", bbox_inches=\"tight\")"
   ]
  },
  {
   "cell_type": "code",
   "execution_count": null,
   "id": "9ecdb72b-6324-42bc-bd56-2f40b0b8f1e8",
   "metadata": {},
   "outputs": [],
   "source": []
  }
 ],
 "metadata": {
  "kernelspec": {
   "display_name": "Python 3 (ipykernel)",
   "language": "python",
   "name": "python3"
  },
  "language_info": {
   "codemirror_mode": {
    "name": "ipython",
    "version": 3
   },
   "file_extension": ".py",
   "mimetype": "text/x-python",
   "name": "python",
   "nbconvert_exporter": "python",
   "pygments_lexer": "ipython3",
   "version": "3.13.7"
  }
 },
 "nbformat": 4,
 "nbformat_minor": 5
}
